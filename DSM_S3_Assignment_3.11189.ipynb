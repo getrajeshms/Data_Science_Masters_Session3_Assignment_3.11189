{
 "cells": [
  {
   "cell_type": "code",
   "execution_count": 21,
   "metadata": {},
   "outputs": [
    {
     "name": "stdout",
     "output_type": "stream",
     "text": [
      "Data Science Masters : Session 3 - Assignment_3.11189\n",
      "Please enter numerator value:5\n",
      "Numerator is: 5.0\n",
      "Please enter denominator value:0\n",
      "Denominator is: 0.0\n",
      "The expression contains a division by 0.The expression is undefined.\n"
     ]
    }
   ],
   "source": [
    "# To print the assignment header\n",
    "print(\"Data Science Masters : Session 3 - Assignment_3.11189\")\n",
    "# To enter the numerator value and print value entered\n",
    "X=float(input(\"Please enter numerator value:\"))\n",
    "print(\"Numerator is:\",X)\n",
    "# To enter the denominator value and print value entered\n",
    "Y=float(input(\"Please enter denominator value:\"))\n",
    "print(\"Denominator is:\",Y)\n",
    "# Initiating try block statements\n",
    "try:\n",
    "    a=X/Y\n",
    "    print(a)\n",
    "# Initiating exception handling statements\n",
    "except:\n",
    "    print(\"The expression contains a division by 0.The expression is undefined.\")"
   ]
  },
  {
   "cell_type": "code",
   "execution_count": null,
   "metadata": {},
   "outputs": [],
   "source": []
  }
 ],
 "metadata": {
  "kernelspec": {
   "display_name": "Python 3",
   "language": "python",
   "name": "python3"
  },
  "language_info": {
   "codemirror_mode": {
    "name": "ipython",
    "version": 3
   },
   "file_extension": ".py",
   "mimetype": "text/x-python",
   "name": "python",
   "nbconvert_exporter": "python",
   "pygments_lexer": "ipython3",
   "version": "3.6.4"
  }
 },
 "nbformat": 4,
 "nbformat_minor": 2
}
